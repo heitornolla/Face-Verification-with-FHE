{
  "cells": [
    {
      "cell_type": "markdown",
      "id": "activated-steering",
      "metadata": {
        "id": "activated-steering"
      },
      "source": [
        "# Requirements"
      ]
    },
    {
      "cell_type": "code",
      "source": [
        "!pip install tenseal deepface"
      ],
      "metadata": {
        "collapsed": true,
        "colab": {
          "base_uri": "https://localhost:8080/"
        },
        "id": "G1awh_oUmue2",
        "outputId": "357a5271-09cb-4964-d1a9-f5448b7fc89d"
      },
      "id": "G1awh_oUmue2",
      "execution_count": 155,
      "outputs": [
        {
          "output_type": "stream",
          "name": "stdout",
          "text": [
            "Requirement already satisfied: tenseal in /usr/local/lib/python3.11/dist-packages (0.3.16)\n",
            "Requirement already satisfied: deepface in /usr/local/lib/python3.11/dist-packages (0.0.93)\n",
            "Requirement already satisfied: requests>=2.27.1 in /usr/local/lib/python3.11/dist-packages (from deepface) (2.32.3)\n",
            "Requirement already satisfied: numpy>=1.14.0 in /usr/local/lib/python3.11/dist-packages (from deepface) (2.0.2)\n",
            "Requirement already satisfied: pandas>=0.23.4 in /usr/local/lib/python3.11/dist-packages (from deepface) (2.2.2)\n",
            "Requirement already satisfied: gdown>=3.10.1 in /usr/local/lib/python3.11/dist-packages (from deepface) (5.2.0)\n",
            "Requirement already satisfied: tqdm>=4.30.0 in /usr/local/lib/python3.11/dist-packages (from deepface) (4.67.1)\n",
            "Requirement already satisfied: Pillow>=5.2.0 in /usr/local/lib/python3.11/dist-packages (from deepface) (11.2.1)\n",
            "Requirement already satisfied: opencv-python>=4.5.5.64 in /usr/local/lib/python3.11/dist-packages (from deepface) (4.11.0.86)\n",
            "Requirement already satisfied: tensorflow>=1.9.0 in /usr/local/lib/python3.11/dist-packages (from deepface) (2.18.0)\n",
            "Requirement already satisfied: keras>=2.2.0 in /usr/local/lib/python3.11/dist-packages (from deepface) (3.8.0)\n",
            "Requirement already satisfied: Flask>=1.1.2 in /usr/local/lib/python3.11/dist-packages (from deepface) (3.1.1)\n",
            "Requirement already satisfied: flask-cors>=4.0.1 in /usr/local/lib/python3.11/dist-packages (from deepface) (6.0.1)\n",
            "Requirement already satisfied: mtcnn>=0.1.0 in /usr/local/lib/python3.11/dist-packages (from deepface) (1.0.0)\n",
            "Requirement already satisfied: retina-face>=0.0.1 in /usr/local/lib/python3.11/dist-packages (from deepface) (0.0.17)\n",
            "Requirement already satisfied: fire>=0.4.0 in /usr/local/lib/python3.11/dist-packages (from deepface) (0.7.0)\n",
            "Requirement already satisfied: gunicorn>=20.1.0 in /usr/local/lib/python3.11/dist-packages (from deepface) (23.0.0)\n",
            "Requirement already satisfied: termcolor in /usr/local/lib/python3.11/dist-packages (from fire>=0.4.0->deepface) (3.1.0)\n",
            "Requirement already satisfied: blinker>=1.9.0 in /usr/local/lib/python3.11/dist-packages (from Flask>=1.1.2->deepface) (1.9.0)\n",
            "Requirement already satisfied: click>=8.1.3 in /usr/local/lib/python3.11/dist-packages (from Flask>=1.1.2->deepface) (8.2.1)\n",
            "Requirement already satisfied: itsdangerous>=2.2.0 in /usr/local/lib/python3.11/dist-packages (from Flask>=1.1.2->deepface) (2.2.0)\n",
            "Requirement already satisfied: jinja2>=3.1.2 in /usr/local/lib/python3.11/dist-packages (from Flask>=1.1.2->deepface) (3.1.6)\n",
            "Requirement already satisfied: markupsafe>=2.1.1 in /usr/local/lib/python3.11/dist-packages (from Flask>=1.1.2->deepface) (3.0.2)\n",
            "Requirement already satisfied: werkzeug>=3.1.0 in /usr/local/lib/python3.11/dist-packages (from Flask>=1.1.2->deepface) (3.1.3)\n",
            "Requirement already satisfied: beautifulsoup4 in /usr/local/lib/python3.11/dist-packages (from gdown>=3.10.1->deepface) (4.13.4)\n",
            "Requirement already satisfied: filelock in /usr/local/lib/python3.11/dist-packages (from gdown>=3.10.1->deepface) (3.18.0)\n",
            "Requirement already satisfied: packaging in /usr/local/lib/python3.11/dist-packages (from gunicorn>=20.1.0->deepface) (24.2)\n",
            "Requirement already satisfied: absl-py in /usr/local/lib/python3.11/dist-packages (from keras>=2.2.0->deepface) (1.4.0)\n",
            "Requirement already satisfied: rich in /usr/local/lib/python3.11/dist-packages (from keras>=2.2.0->deepface) (13.9.4)\n",
            "Requirement already satisfied: namex in /usr/local/lib/python3.11/dist-packages (from keras>=2.2.0->deepface) (0.1.0)\n",
            "Requirement already satisfied: h5py in /usr/local/lib/python3.11/dist-packages (from keras>=2.2.0->deepface) (3.14.0)\n",
            "Requirement already satisfied: optree in /usr/local/lib/python3.11/dist-packages (from keras>=2.2.0->deepface) (0.16.0)\n",
            "Requirement already satisfied: ml-dtypes in /usr/local/lib/python3.11/dist-packages (from keras>=2.2.0->deepface) (0.4.1)\n",
            "Requirement already satisfied: joblib>=1.4.2 in /usr/local/lib/python3.11/dist-packages (from mtcnn>=0.1.0->deepface) (1.5.1)\n",
            "Requirement already satisfied: lz4>=4.3.3 in /usr/local/lib/python3.11/dist-packages (from mtcnn>=0.1.0->deepface) (4.4.4)\n",
            "Requirement already satisfied: python-dateutil>=2.8.2 in /usr/local/lib/python3.11/dist-packages (from pandas>=0.23.4->deepface) (2.9.0.post0)\n",
            "Requirement already satisfied: pytz>=2020.1 in /usr/local/lib/python3.11/dist-packages (from pandas>=0.23.4->deepface) (2025.2)\n",
            "Requirement already satisfied: tzdata>=2022.7 in /usr/local/lib/python3.11/dist-packages (from pandas>=0.23.4->deepface) (2025.2)\n",
            "Requirement already satisfied: charset-normalizer<4,>=2 in /usr/local/lib/python3.11/dist-packages (from requests>=2.27.1->deepface) (3.4.2)\n",
            "Requirement already satisfied: idna<4,>=2.5 in /usr/local/lib/python3.11/dist-packages (from requests>=2.27.1->deepface) (3.10)\n",
            "Requirement already satisfied: urllib3<3,>=1.21.1 in /usr/local/lib/python3.11/dist-packages (from requests>=2.27.1->deepface) (2.4.0)\n",
            "Requirement already satisfied: certifi>=2017.4.17 in /usr/local/lib/python3.11/dist-packages (from requests>=2.27.1->deepface) (2025.7.9)\n",
            "Requirement already satisfied: astunparse>=1.6.0 in /usr/local/lib/python3.11/dist-packages (from tensorflow>=1.9.0->deepface) (1.6.3)\n",
            "Requirement already satisfied: flatbuffers>=24.3.25 in /usr/local/lib/python3.11/dist-packages (from tensorflow>=1.9.0->deepface) (25.2.10)\n",
            "Requirement already satisfied: gast!=0.5.0,!=0.5.1,!=0.5.2,>=0.2.1 in /usr/local/lib/python3.11/dist-packages (from tensorflow>=1.9.0->deepface) (0.6.0)\n",
            "Requirement already satisfied: google-pasta>=0.1.1 in /usr/local/lib/python3.11/dist-packages (from tensorflow>=1.9.0->deepface) (0.2.0)\n",
            "Requirement already satisfied: libclang>=13.0.0 in /usr/local/lib/python3.11/dist-packages (from tensorflow>=1.9.0->deepface) (18.1.1)\n",
            "Requirement already satisfied: opt-einsum>=2.3.2 in /usr/local/lib/python3.11/dist-packages (from tensorflow>=1.9.0->deepface) (3.4.0)\n",
            "Requirement already satisfied: protobuf!=4.21.0,!=4.21.1,!=4.21.2,!=4.21.3,!=4.21.4,!=4.21.5,<6.0.0dev,>=3.20.3 in /usr/local/lib/python3.11/dist-packages (from tensorflow>=1.9.0->deepface) (5.29.5)\n",
            "Requirement already satisfied: setuptools in /usr/local/lib/python3.11/dist-packages (from tensorflow>=1.9.0->deepface) (75.2.0)\n",
            "Requirement already satisfied: six>=1.12.0 in /usr/local/lib/python3.11/dist-packages (from tensorflow>=1.9.0->deepface) (1.17.0)\n",
            "Requirement already satisfied: typing-extensions>=3.6.6 in /usr/local/lib/python3.11/dist-packages (from tensorflow>=1.9.0->deepface) (4.14.1)\n",
            "Requirement already satisfied: wrapt>=1.11.0 in /usr/local/lib/python3.11/dist-packages (from tensorflow>=1.9.0->deepface) (1.17.2)\n",
            "Requirement already satisfied: grpcio<2.0,>=1.24.3 in /usr/local/lib/python3.11/dist-packages (from tensorflow>=1.9.0->deepface) (1.73.1)\n",
            "Requirement already satisfied: tensorboard<2.19,>=2.18 in /usr/local/lib/python3.11/dist-packages (from tensorflow>=1.9.0->deepface) (2.18.0)\n",
            "Requirement already satisfied: tensorflow-io-gcs-filesystem>=0.23.1 in /usr/local/lib/python3.11/dist-packages (from tensorflow>=1.9.0->deepface) (0.37.1)\n",
            "Requirement already satisfied: wheel<1.0,>=0.23.0 in /usr/local/lib/python3.11/dist-packages (from astunparse>=1.6.0->tensorflow>=1.9.0->deepface) (0.45.1)\n",
            "Requirement already satisfied: markdown>=2.6.8 in /usr/local/lib/python3.11/dist-packages (from tensorboard<2.19,>=2.18->tensorflow>=1.9.0->deepface) (3.8.2)\n",
            "Requirement already satisfied: tensorboard-data-server<0.8.0,>=0.7.0 in /usr/local/lib/python3.11/dist-packages (from tensorboard<2.19,>=2.18->tensorflow>=1.9.0->deepface) (0.7.2)\n",
            "Requirement already satisfied: soupsieve>1.2 in /usr/local/lib/python3.11/dist-packages (from beautifulsoup4->gdown>=3.10.1->deepface) (2.7)\n",
            "Requirement already satisfied: PySocks!=1.5.7,>=1.5.6 in /usr/local/lib/python3.11/dist-packages (from requests[socks]->gdown>=3.10.1->deepface) (1.7.1)\n",
            "Requirement already satisfied: markdown-it-py>=2.2.0 in /usr/local/lib/python3.11/dist-packages (from rich->keras>=2.2.0->deepface) (3.0.0)\n",
            "Requirement already satisfied: pygments<3.0.0,>=2.13.0 in /usr/local/lib/python3.11/dist-packages (from rich->keras>=2.2.0->deepface) (2.19.2)\n",
            "Requirement already satisfied: mdurl~=0.1 in /usr/local/lib/python3.11/dist-packages (from markdown-it-py>=2.2.0->rich->keras>=2.2.0->deepface) (0.1.2)\n"
          ]
        }
      ]
    },
    {
      "cell_type": "code",
      "execution_count": 156,
      "id": "blank-finding",
      "metadata": {
        "id": "blank-finding"
      },
      "outputs": [],
      "source": [
        "import tenseal as ts\n",
        "from deepface import DeepFace\n",
        "import base64"
      ]
    },
    {
      "cell_type": "markdown",
      "id": "assured-coating",
      "metadata": {
        "id": "assured-coating"
      },
      "source": [
        "# Finding embeddings\n",
        "\n",
        "Done in the client side."
      ]
    },
    {
      "cell_type": "code",
      "execution_count": 157,
      "id": "invalid-scheme",
      "metadata": {
        "id": "invalid-scheme"
      },
      "outputs": [],
      "source": [
        "img1_path = \"enroll.jpg\"\n",
        "img2_path = \"verify.jpg\""
      ]
    },
    {
      "cell_type": "code",
      "execution_count": 158,
      "id": "coastal-oxygen",
      "metadata": {
        "id": "coastal-oxygen"
      },
      "outputs": [],
      "source": [
        "# Returns a list\n",
        "\n",
        "img1_embedding = DeepFace.represent(img1_path, model_name = 'Facenet')\n",
        "img2_embedding = DeepFace.represent(img2_path, model_name = 'Facenet')"
      ]
    },
    {
      "cell_type": "code",
      "source": [
        "enrolled_embedding = img1_embedding[0]['embedding']\n",
        "verify_embedding = img2_embedding[0]['embedding']"
      ],
      "metadata": {
        "id": "odTJF7pEnfXd"
      },
      "id": "odTJF7pEnfXd",
      "execution_count": 159,
      "outputs": []
    },
    {
      "cell_type": "markdown",
      "id": "considered-commitment",
      "metadata": {
        "id": "considered-commitment"
      },
      "source": [
        "# Commons"
      ]
    },
    {
      "cell_type": "code",
      "execution_count": 160,
      "id": "arabic-duration",
      "metadata": {
        "id": "arabic-duration"
      },
      "outputs": [],
      "source": [
        "def write_data(file_name, data):\n",
        "\n",
        "    if type(data) == bytes:\n",
        "        #bytes to base64\n",
        "        data = base64.b64encode(data)\n",
        "\n",
        "    with open(file_name, 'wb') as f:\n",
        "        f.write(data)\n",
        "\n",
        "def read_data(file_name):\n",
        "    with open(file_name, \"rb\") as f:\n",
        "        data = f.read()\n",
        "\n",
        "    #base64 to bytes\n",
        "    return base64.b64decode(data)"
      ]
    },
    {
      "cell_type": "markdown",
      "id": "understanding-fight",
      "metadata": {
        "id": "understanding-fight"
      },
      "source": [
        "# Initialization\n",
        "\n",
        "Generate secret/public key pair. Done client side."
      ]
    },
    {
      "cell_type": "code",
      "execution_count": 161,
      "id": "manual-endorsement",
      "metadata": {
        "id": "manual-endorsement"
      },
      "outputs": [],
      "source": [
        "context = ts.context(\n",
        "            ts.SCHEME_TYPE.CKKS,\n",
        "            poly_modulus_degree = 8192,\n",
        "            coeff_mod_bit_sizes = [60, 40, 40, 60]\n",
        "          )\n",
        "\n",
        "context.generate_galois_keys()\n",
        "context.global_scale = 2**40"
      ]
    },
    {
      "cell_type": "code",
      "execution_count": 162,
      "id": "mental-mining",
      "metadata": {
        "id": "mental-mining"
      },
      "outputs": [],
      "source": [
        "secret_context = context.serialize(save_secret_key = True)\n",
        "write_data(\"secret.txt\", secret_context)"
      ]
    },
    {
      "cell_type": "code",
      "execution_count": 163,
      "id": "magnetic-relevance",
      "metadata": {
        "id": "magnetic-relevance"
      },
      "outputs": [],
      "source": [
        "context.make_context_public() #drop the secret_key from the context\n",
        "public_context = context.serialize()\n",
        "write_data(\"public.txt\", public_context)"
      ]
    },
    {
      "cell_type": "code",
      "execution_count": 164,
      "id": "tropical-cooking",
      "metadata": {
        "id": "tropical-cooking"
      },
      "outputs": [],
      "source": [
        "del context, secret_context, public_context"
      ]
    },
    {
      "cell_type": "markdown",
      "id": "exempt-rochester",
      "metadata": {
        "id": "exempt-rochester"
      },
      "source": [
        "# Encryption\n",
        "\n",
        "Apply homomorphic encryption to facial embeddings. Done client side.\n",
        "\n",
        "Later, homomorphic encrypted facial embeddings will be stored in the cloud."
      ]
    },
    {
      "cell_type": "code",
      "execution_count": 165,
      "id": "stretch-press",
      "metadata": {
        "id": "stretch-press"
      },
      "outputs": [],
      "source": [
        "context = ts.context_from(read_data(\"secret.txt\"))"
      ]
    },
    {
      "cell_type": "code",
      "execution_count": 166,
      "id": "joined-slovenia",
      "metadata": {
        "id": "joined-slovenia"
      },
      "outputs": [],
      "source": [
        "enc_v1 = ts.ckks_vector(context, enrolled_embedding)\n",
        "enc_v2 = ts.ckks_vector(context, verify_embedding)"
      ]
    },
    {
      "cell_type": "code",
      "execution_count": 167,
      "id": "synthetic-adult",
      "metadata": {
        "id": "synthetic-adult"
      },
      "outputs": [],
      "source": [
        "enc_v1_proto = enc_v1.serialize()\n",
        "enc_v2_proto = enc_v2.serialize()"
      ]
    },
    {
      "cell_type": "code",
      "execution_count": 168,
      "id": "phantom-return",
      "metadata": {
        "id": "phantom-return"
      },
      "outputs": [],
      "source": [
        "write_data(\"enc_v1.txt\", enc_v1_proto)\n",
        "write_data(\"enc_v2.txt\", enc_v2_proto)"
      ]
    },
    {
      "cell_type": "code",
      "execution_count": 169,
      "id": "taken-shannon",
      "metadata": {
        "id": "taken-shannon"
      },
      "outputs": [],
      "source": [
        "del context, enc_v1, enc_v2, enc_v1_proto, enc_v2_proto"
      ]
    },
    {
      "cell_type": "markdown",
      "id": "informational-measure",
      "metadata": {
        "id": "informational-measure"
      },
      "source": [
        "# Calculations\n",
        "\n",
        "Once homomorphic encrypted facial embeddings stored in the cloud, we are able to make calculations on encrypted data.\n",
        "\n",
        "Here, we only need the public key."
      ]
    },
    {
      "cell_type": "code",
      "execution_count": 170,
      "id": "painful-constitution",
      "metadata": {
        "id": "painful-constitution"
      },
      "outputs": [],
      "source": [
        "context = ts.context_from(read_data(\"public.txt\"))"
      ]
    },
    {
      "cell_type": "code",
      "execution_count": 171,
      "id": "female-exchange",
      "metadata": {
        "id": "female-exchange"
      },
      "outputs": [],
      "source": [
        "enc_v1_proto = read_data(\"enc_v1.txt\")\n",
        "enc_v2_proto = read_data(\"enc_v2.txt\")"
      ]
    },
    {
      "cell_type": "code",
      "execution_count": 172,
      "id": "passing-sixth",
      "metadata": {
        "id": "passing-sixth"
      },
      "outputs": [],
      "source": [
        "enc_v1 = ts.lazy_ckks_vector_from(enc_v1_proto)\n",
        "enc_v1.link_context(context)\n",
        "\n",
        "enc_v2 = ts.lazy_ckks_vector_from(enc_v2_proto)\n",
        "enc_v2.link_context(context)"
      ]
    },
    {
      "cell_type": "code",
      "execution_count": 173,
      "id": "built-configuration",
      "metadata": {
        "id": "built-configuration"
      },
      "outputs": [],
      "source": [
        "euclidean_squared = enc_v1 - enc_v2\n",
        "euclidean_squared = euclidean_squared.dot(euclidean_squared)"
      ]
    },
    {
      "cell_type": "code",
      "execution_count": 174,
      "id": "synthetic-significance",
      "metadata": {
        "id": "synthetic-significance"
      },
      "outputs": [],
      "source": [
        "write_data(\"euclidean_squared.txt\", euclidean_squared.serialize())"
      ]
    },
    {
      "cell_type": "code",
      "execution_count": 175,
      "id": "inside-rendering",
      "metadata": {
        "colab": {
          "base_uri": "https://localhost:8080/"
        },
        "id": "inside-rendering",
        "outputId": "657fcb3b-0d74-4900-94d9-2ad8d90a88b9"
      },
      "outputs": [
        {
          "output_type": "stream",
          "name": "stdout",
          "text": [
            "Exception:  the current context of the tensor doesn't hold a secret_key, please provide one as argument\n"
          ]
        }
      ],
      "source": [
        "# We must not decrypt the homomorphic encrypted euclidean squared value in this stage\n",
        "#because we don't have the secret key.\n",
        "\n",
        "try:\n",
        "    euclidean_squared.decrypt()\n",
        "except Exception as err:\n",
        "    print(\"Exception: \", str(err))"
      ]
    },
    {
      "cell_type": "code",
      "execution_count": 176,
      "id": "experimental-criterion",
      "metadata": {
        "id": "experimental-criterion"
      },
      "outputs": [],
      "source": [
        "del context, enc_v1_proto, enc_v2_proto, enc_v1, enc_v2, euclidean_squared"
      ]
    },
    {
      "cell_type": "markdown",
      "id": "compatible-handle",
      "metadata": {
        "id": "compatible-handle"
      },
      "source": [
        "# Decryption\n",
        "\n",
        "Once homomorphic encrypted euclidean squared value found in the cloud, we are going to retrieve it to the client side.\n",
        "\n",
        "Client can decrypt it because we have the secret key in the client side."
      ]
    },
    {
      "cell_type": "code",
      "execution_count": 177,
      "id": "intellectual-shadow",
      "metadata": {
        "id": "intellectual-shadow"
      },
      "outputs": [],
      "source": [
        "context = ts.context_from(read_data(\"secret.txt\"))"
      ]
    },
    {
      "cell_type": "code",
      "execution_count": 178,
      "id": "welcome-question",
      "metadata": {
        "id": "welcome-question"
      },
      "outputs": [],
      "source": [
        "euclidean_squared_proto = read_data(\"euclidean_squared.txt\")"
      ]
    },
    {
      "cell_type": "code",
      "execution_count": 179,
      "id": "eligible-judges",
      "metadata": {
        "id": "eligible-judges"
      },
      "outputs": [],
      "source": [
        "euclidean_squared = ts.lazy_ckks_vector_from(euclidean_squared_proto)\n",
        "euclidean_squared.link_context(context)"
      ]
    },
    {
      "cell_type": "code",
      "execution_count": 180,
      "id": "phantom-impression",
      "metadata": {
        "id": "phantom-impression"
      },
      "outputs": [],
      "source": [
        "euclidean_squared_plain = euclidean_squared.decrypt()[0]"
      ]
    },
    {
      "cell_type": "code",
      "execution_count": 181,
      "id": "eleven-psychiatry",
      "metadata": {
        "colab": {
          "base_uri": "https://localhost:8080/"
        },
        "id": "eleven-psychiatry",
        "outputId": "9d732bfd-ecdb-4c80-95c8-fd7dc862a775"
      },
      "outputs": [
        {
          "output_type": "execute_result",
          "data": {
            "text/plain": [
              "51.57489099802089"
            ]
          },
          "metadata": {},
          "execution_count": 181
        }
      ],
      "source": [
        "euclidean_squared_plain"
      ]
    },
    {
      "cell_type": "code",
      "execution_count": 182,
      "id": "changed-floor",
      "metadata": {
        "colab": {
          "base_uri": "https://localhost:8080/"
        },
        "id": "changed-floor",
        "outputId": "3da8d103-6d0f-4ccb-fb95-6d2fd9253311"
      },
      "outputs": [
        {
          "output_type": "stream",
          "name": "stdout",
          "text": [
            "they are same person\n"
          ]
        }
      ],
      "source": [
        "if euclidean_squared_plain < 100:\n",
        "    print(\"they are same person\")\n",
        "else:\n",
        "    print(\"they are different persons\")"
      ]
    }
  ],
  "metadata": {
    "kernelspec": {
      "display_name": "Python 3",
      "language": "python",
      "name": "python3"
    },
    "language_info": {
      "codemirror_mode": {
        "name": "ipython",
        "version": 3
      },
      "file_extension": ".py",
      "mimetype": "text/x-python",
      "name": "python",
      "nbconvert_exporter": "python",
      "pygments_lexer": "ipython3",
      "version": "3.8.5"
    },
    "colab": {
      "provenance": []
    }
  },
  "nbformat": 4,
  "nbformat_minor": 5
}